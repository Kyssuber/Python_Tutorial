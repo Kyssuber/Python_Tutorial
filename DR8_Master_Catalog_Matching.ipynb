{
 "cells": [
  {
   "cell_type": "markdown",
   "metadata": {},
   "source": [
    "## Informal DR8-Catalog Matching Tutorial, \"Roughly-Transcribed\"\n",
    "\n",
    "***** First convert .fits file to .csv *****\n",
    "\n",
    "https://datalab.noao.edu\n",
    "\n",
    "- X-match Service (match catalog to another survey's catalog)\n",
    "- Table Management tab; upload vf_north_v0_main.csv\n",
    "- Return to Xmatch tab; first table is \"uploaded table,\" select \"ra\" and \"dec\" columns for the first and second dropdown menus, respectively\n",
    "- For 2nd table --> \"ls_dr8\", subtable will be \"ls_dr8.tractor\" (which contains photometry data), \"flux_g\" \"flux_r\" \"flux_z\" \"flux_w1\" \"flux_w2\" \"flux_w3\" \"flux_w4\"\n",
    "- Title ze table; Radius: 1 arcsec (desire a close match)\n",
    "- Activate the following markers: \"Find all matches,\" \"Download results to your computer only\"\n",
    "- Exercise patience as the wheel on the monitor keeps on turnin'. \n",
    "- Returns a csv file"
   ]
  },
  {
   "cell_type": "code",
   "execution_count": 33,
   "metadata": {},
   "outputs": [],
   "source": [
    "from astropy.io import fits\n",
    "import numpy as np\n",
    "from astropy.io import ascii\n",
    "from astropy.table import Table"
   ]
  },
  {
   "cell_type": "code",
   "execution_count": 40,
   "metadata": {},
   "outputs": [],
   "source": [
    "vftab = '/Users/k215c316/Virgo/v0-03Jul2020/vf_north_v0_main.fits'\n",
    "vftab = fits.open(vftab)\n",
    "#ascii.write(,format='csv')\n",
    "#help(ascii.write)"
   ]
  },
  {
   "cell_type": "code",
   "execution_count": 50,
   "metadata": {},
   "outputs": [],
   "source": [
    "vftable = Table.read(vftab)"
   ]
  },
  {
   "cell_type": "code",
   "execution_count": 65,
   "metadata": {
    "collapsed": true
   },
   "outputs": [
    {
     "ename": "AttributeError",
     "evalue": "'Table' object has no attribute 'csv'",
     "output_type": "error",
     "traceback": [
      "\u001b[0;31m---------------------------------------------------------------------------\u001b[0m",
      "\u001b[0;31mAttributeError\u001b[0m                            Traceback (most recent call last)",
      "\u001b[0;32m<ipython-input-65-3a7c96588236>\u001b[0m in \u001b[0;36m<module>\u001b[0;34m\u001b[0m\n\u001b[1;32m      8\u001b[0m     \u001b[0mcsv_writer\u001b[0m\u001b[0;34m.\u001b[0m\u001b[0mwriterow\u001b[0m\u001b[0;34m(\u001b[0m\u001b[0mvftable\u001b[0m\u001b[0;34m[\u001b[0m\u001b[0;34m'radius'\u001b[0m\u001b[0;34m]\u001b[0m\u001b[0;34m)\u001b[0m\u001b[0;34m\u001b[0m\u001b[0;34m\u001b[0m\u001b[0m\n\u001b[1;32m      9\u001b[0m     \u001b[0mcsv_writer\u001b[0m\u001b[0;34m.\u001b[0m\u001b[0mwriterow\u001b[0m\u001b[0;34m(\u001b[0m\u001b[0mvftable\u001b[0m\u001b[0;34m[\u001b[0m\u001b[0;34m'objname'\u001b[0m\u001b[0;34m]\u001b[0m\u001b[0;34m)\u001b[0m\u001b[0;34m\u001b[0m\u001b[0;34m\u001b[0m\u001b[0m\n\u001b[0;32m---> 10\u001b[0;31m \u001b[0mvftable\u001b[0m\u001b[0;34m.\u001b[0m\u001b[0mcsv\u001b[0m\u001b[0;34m\u001b[0m\u001b[0;34m\u001b[0m\u001b[0m\n\u001b[0m",
      "\u001b[0;31mAttributeError\u001b[0m: 'Table' object has no attribute 'csv'"
     ]
    }
   ],
   "source": [
    "#even with the error note, this approach was effective. \n",
    "#then open file in Excel, copy each row, paste \"transposed\" in a new sheet, save as .csv\n",
    "\n",
    "import csv\n",
    "with open('vftab.csv','w') as csv_file:\n",
    "    csv_writer = csv.writer(csv_file)\n",
    "    csv_writer.writerow(vftable['RA'])\n",
    "    csv_writer.writerow(vftable['DEC'])\n",
    "    csv_writer.writerow(vftable['VFID'])\n",
    "    csv_writer.writerow(vftable['vr'])\n",
    "    csv_writer.writerow(vftable['radius'])\n",
    "    csv_writer.writerow(vftable['objname'])\n",
    "vftable.csv"
   ]
  },
  {
   "cell_type": "markdown",
   "metadata": {},
   "source": [
    "# LOL JK I MUST CREATE AN ACCOUNT FIRST."
   ]
  },
  {
   "cell_type": "markdown",
   "metadata": {},
   "source": [
    "# LOL JK AGAIN THE ADMINISTRATORS MUST APPROVE MY ACCOUNT CREATION REQUEST."
   ]
  },
  {
   "cell_type": "code",
   "execution_count": null,
   "metadata": {},
   "outputs": [],
   "source": []
  }
 ],
 "metadata": {
  "kernelspec": {
   "display_name": "Python 3",
   "language": "python",
   "name": "python3"
  },
  "language_info": {
   "codemirror_mode": {
    "name": "ipython",
    "version": 3
   },
   "file_extension": ".py",
   "mimetype": "text/x-python",
   "name": "python",
   "nbconvert_exporter": "python",
   "pygments_lexer": "ipython3",
   "version": "3.8.3"
  }
 },
 "nbformat": 4,
 "nbformat_minor": 4
}
